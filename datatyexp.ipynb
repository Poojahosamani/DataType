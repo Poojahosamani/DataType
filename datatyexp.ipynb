{
 "cells": [
  {
   "cell_type": "code",
   "execution_count": 1,
   "id": "f7a78313",
   "metadata": {},
   "outputs": [
    {
     "name": "stdout",
     "output_type": "stream",
     "text": [
      "25\n"
     ]
    }
   ],
   "source": [
    "#Demonstration of Integer-Addition of two integer number  \n",
    "a=10\n",
    "b=15\n",
    "c=a+b\n",
    "print(c)"
   ]
  },
  {
   "cell_type": "code",
   "execution_count": 2,
   "id": "7691d1bb",
   "metadata": {},
   "outputs": [
    {
     "name": "stdout",
     "output_type": "stream",
     "text": [
      "Enter the Principal Amount:500\n",
      "Enter the Rate of interest:8.5\n",
      "Enter the Time period:5.5\n",
      "The Simple Interest= 233.75\n"
     ]
    }
   ],
   "source": [
    "#Demonstration of Float Number- Calculate Simple Interest  \n",
    "princ=float(input(\"Enter the Principal Amount:\"))\n",
    "rate=float(input(\"Enter the Rate of interest:\"))\n",
    "time=float(input(\"Enter the Time period:\"))\n",
    "si=(princ*rate*time)/100\n",
    "print(\"The Simple Interest=\",si)\n"
   ]
  },
  {
   "cell_type": "code",
   "execution_count": 3,
   "id": "713e8cf7",
   "metadata": {},
   "outputs": [
    {
     "name": "stdout",
     "output_type": "stream",
     "text": [
      "Sum of two Complex Numbers\n",
      "(7+8j) + (3.1+6j) = (10.1+14j)\n"
     ]
    }
   ],
   "source": [
    "#Demonstration of Complex Number- Sum of two Complex  Numbers\n",
    "a= 7+8j\n",
    "b =3.1+6j\n",
    "c=a+b\n",
    "print(\"Sum of two Complex Numbers\")\n",
    "print(a,\"+\",b,\"=\",c)"
   ]
  },
  {
   "cell_type": "code",
   "execution_count": 7,
   "id": "6e443198",
   "metadata": {},
   "outputs": [
    {
     "name": "stdout",
     "output_type": "stream",
     "text": [
      "True\n",
      "<class 'bool'>\n"
     ]
    }
   ],
   "source": [
    "#Demonstration of Boolean Type\n",
    "x=True\n",
    "print(x)\n",
    "print(type(x))\n"
   ]
  },
  {
   "cell_type": "code",
   "execution_count": 2,
   "id": "c1f7f127",
   "metadata": {},
   "outputs": [
    {
     "name": "stdout",
     "output_type": "stream",
     "text": [
      "{'cherry', 'apple', 'banana'}\n"
     ]
    }
   ],
   "source": [
    "#Demonstration of Set :\n",
    "thisset = {\"apple\", \"banana\", \"cherry\"}\n",
    "print(thisset)"
   ]
  },
  {
   "cell_type": "code",
   "execution_count": 4,
   "id": "2f8e3c36",
   "metadata": {},
   "outputs": [
    {
     "name": "stdout",
     "output_type": "stream",
     "text": [
      "{'Madhav': 9876567843, 'Dilpreet': 7650983457, 'Murugan': 9067208769, 'Abhinav': 9870987067}\n"
     ]
    }
   ],
   "source": [
    "#Demonstration of Dictionary- Program to save Phone nos. in dictionary &  print it\n",
    "\n",
    "Phonedict={\"Madhav\":9876567843,\"Dilpreet\":7650983457,\"Murugan\":9067208769,\"Abhinav\":9870987067}\n",
    "print(Phonedict)\n"
   ]
  },
  {
   "cell_type": "code",
   "execution_count": 6,
   "id": "be72c08d",
   "metadata": {},
   "outputs": [
    {
     "name": "stdout",
     "output_type": "stream",
     "text": [
      "What is your Name? :poo\n",
      "Greetings!!!\n",
      "Hello! poo\n"
     ]
    }
   ],
   "source": [
    "#Demonstration of String- To input string & print it  \n",
    "my_name=input(\"What is your Name? :\")  \n",
    "print(\"Greetings!!!\")\n",
    "print(\"Hello!\",my_name)\n"
   ]
  },
  {
   "cell_type": "code",
   "execution_count": 7,
   "id": "2ebacdc0",
   "metadata": {},
   "outputs": [
    {
     "name": "stdout",
     "output_type": "stream",
     "text": [
      "Joined List : [12, 78, 45, 30, 80, 50, 56, 77, 95]\n"
     ]
    }
   ],
   "source": [
    "#Demonstration of List- Program to input 2 list & join it \n",
    "List1=[12,78,45,30] \n",
    "List2=[80,50,56,77,95]\n",
    "List=List1+List2  \n",
    "print(\"Joined List :\",List)  \n"
   ]
  },
  {
   "cell_type": "code",
   "execution_count": 9,
   "id": "b49fa719",
   "metadata": {},
   "outputs": [
    {
     "name": "stdout",
     "output_type": "stream",
     "text": [
      "('apple', 'banana', 'cherry', 'apple', 'cherry')\n"
     ]
    }
   ],
   "source": [
    "#Demonstration of Tuple -\n",
    "thistuple = (\"apple\",\"banana\",\"cherry\",\"apple\",\"cherry\")\n",
    "print(thistuple)\n"
   ]
  },
  {
   "cell_type": "code",
   "execution_count": null,
   "id": "e97849ba",
   "metadata": {},
   "outputs": [],
   "source": []
  }
 ],
 "metadata": {
  "kernelspec": {
   "display_name": "Python 3 (ipykernel)",
   "language": "python",
   "name": "python3"
  },
  "language_info": {
   "codemirror_mode": {
    "name": "ipython",
    "version": 3
   },
   "file_extension": ".py",
   "mimetype": "text/x-python",
   "name": "python",
   "nbconvert_exporter": "python",
   "pygments_lexer": "ipython3",
   "version": "3.9.7"
  }
 },
 "nbformat": 4,
 "nbformat_minor": 5
}
